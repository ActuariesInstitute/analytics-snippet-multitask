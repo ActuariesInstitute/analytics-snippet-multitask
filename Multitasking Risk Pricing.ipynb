{
 "cells": [
  {
   "cell_type": "markdown",
   "metadata": {},
   "source": [
    "# Analytics Snippet: Multitasking Risk Pricing Using Deep Learning"
   ]
  },
  {
   "cell_type": "markdown",
   "metadata": {},
   "source": [
    "So, you have been asked to build a risk premium pricing model for a motor portfolio - a classic GI problem. \n",
    "\n",
    "The standard approach would be to:\n",
    "* Split the claims into perils, or peril groups based on the cause of loss\n",
    "* Build separate generalised linear models (GLMs) of the frequency and severity of each peril group.\n",
    "* Calibrate non-linear effects such as curves and interactions (typically manually)\n",
    "\n",
    "This has its challenges. Key limitations would be:\n",
    "* Choice of peril groups - finer groups increases granularity, but decreases data available to each model as they are estimated independently,\n",
    "* In the event that frequency and severity are correlated, there is no clear way to model expected cost other than to create a third, independent Tweedie model,\n",
    "* Challenges in finding the right interactions and curves based on the data.\n",
    "\n",
    "What if, there was a model structure that:\n",
    "* Can estimate multiple frequency, severity and expected cost responses in a single model,\n",
    "* While sharing commonalities between those outputs,\n",
    "* Is a [universal approximator](https://en.wikipedia.org/wiki/Universal_approximation_theorem) - capturing non-linear effects automatically,\n",
    "* Can be expanded to use freeform text, photos, voice, or time series data as inputs?\n",
    "\n",
    "In this analytics snippet, we introduce <b>multi-task deep learning for general insurance risk pricing</b>.\n",
    "\n",
    "We apply the flexible structure of deep learning - in particular, multi-task learning, a variation where the model has multiple outputs - to predict all of the expected claims outcomes in a general insurance scenario."
   ]
  },
  {
   "cell_type": "markdown",
   "metadata": {},
   "source": [
    "## Python and R\n",
    "The tutorial below includes code to implement the model, with the option for readers to pick from Python or R.\n",
    "\n",
    "Python is generally better for neural network modelling, and is the recommended language for this snippet - only the output for the Python version is shown. However, R code that implements similar functionality is also included for those who prefer to work exclusively in R. If you are completely new to Python, and feel that the code below a bit intimidating, I would recommend the excellent free introductory tutorial by [DataCamp](https://www.datacamp.com/courses/intro-to-python-for-data-science). \n",
    "\n",
    "Python is free software - you can download it and run it on your pc - either through a distribution which comes with an installer and complete set of packages like [Anaconda](https://www.anaconda.com/download/) or a more barebones download directly from [python.org](https://www.python.org/downloads/). Alternatively, you can also run it online through a web \"notebook\" interface which works on any device including phones and tablets. Free services includes [Google Colaboratory](https://colab.research.google.com/) which links in with Google Drive, and [Microsoft Azure Notebooks](https://notebooks.azure.com/) which links in with OneDrive."
   ]
  },
  {
   "cell_type": "markdown",
   "metadata": {},
   "source": [
    "## Packages\n",
    "This example uses keras with Google's tensorflow library to build the neural networks:\n",
    "* [keras](https://keras.io/), a neural network framework, and \n",
    "* [tensorflow](https://www.tensorflow.org/) Google's computational library which works with Keras.\n",
    "\n",
    "Other standard packages include:\n",
    "* [pandas](https://pandas.pydata.org/), the \"panel data\" dataframes library for python, \n",
    "* [numpy](http://www.numpy.org/) for array based calculations,\n",
    "* [sci-kit learn](http://scikit-learn.org/stable/index.html), a framework for machine learning, \n",
    "* [jupyter](http://jupyter.org/) \n",
    "* [pydot](https://github.com/erocarrera/pydot), required to plot the neural network graph, which relies on:\n",
    "* [graphwiz](https://graphviz.gitlab.io/_pages/Download/Download_windows.html). You will need to add the \"bin\" subfolder of the installed folder location to your windows PATH. "
   ]
  },
  {
   "cell_type": "markdown",
   "metadata": {},
   "source": [
    "#### Python"
   ]
  },
  {
   "cell_type": "code",
   "execution_count": 18,
   "metadata": {},
   "outputs": [],
   "source": [
    "import pandas as pd\n",
    "import numpy as np\n",
    "\n",
    "from keras.layers import Input, Embedding, LSTM, Dense, Reshape, concatenate\n",
    "from keras.models import Model\n",
    "from keras.utils.vis_utils import model_to_dot\n",
    "\n",
    "from sklearn.model_selection import train_test_split\n",
    "\n",
    "from IPython.display import SVG\n",
    "\n",
    "%matplotlib inline"
   ]
  },
  {
   "cell_type": "markdown",
   "metadata": {},
   "source": [
    "#### R\n",
    "In R, we can interface with keras as well using one of two packages, either through Rstudio's [\"keras\"](https://keras.rstudio.com/) or alternatively [\"kerasR\"](https://cran.r-project.org/web/packages/kerasR/vignettes/introduction.html). The R code below uses the \"keras\" package. See [website](https://keras.rstudio.com/) for installation instructions."
   ]
  },
  {
   "cell_type": "markdown",
   "metadata": {},
   "source": [
    "```r\n",
    "library(keras)\n",
    "library(dplyr)\n",
    "```"
   ]
  },
  {
   "cell_type": "markdown",
   "metadata": {},
   "source": [
    "## Reproducibility\n",
    "Neural network trainings include random selections.\n",
    "\n",
    "Including the code below (Python only) will fix the random number generation to a specific value, which should lead to a model result that is very close to the results in the article, however, calculations may run slower."
   ]
  },
  {
   "cell_type": "markdown",
   "metadata": {},
   "source": [
    "#### Python (Optional)"
   ]
  },
  {
   "cell_type": "code",
   "execution_count": 19,
   "metadata": {},
   "outputs": [],
   "source": [
    "import tensorflow as tf\n",
    "import random as rn\n",
    "import os\n",
    "os.environ['PYTHONHASHSEED'] = '0'\n",
    "np.random.seed(42)\n",
    "rn.seed(12345)\n",
    "session_conf = tf.ConfigProto(intra_op_parallelism_threads=1, inter_op_parallelism_threads=1)\n",
    "from keras import backend as K\n",
    "tf.set_random_seed(1234)\n",
    "sess = tf.Session(graph=tf.get_default_graph(), config=session_conf)\n",
    "K.set_session(sess)"
   ]
  },
  {
   "cell_type": "markdown",
   "metadata": {},
   "source": [
    "## Data\n",
    "\n",
    "Not surprisingly, there are very few public insurance datasets that have a great amount of detail. The example dataset we will use is the \"Third party motor insurance claims in Sweden in 1977\", a real life motor insurance dataset. More information on the dataset can be found [here](http://www.statsci.org/data/general/motorins.html).\n",
    "\n",
    "This has no perils to split by, however we will create a deep learning model that estimates both claim frequency and average risk premium in a single model. First we will read in and inspect the data:"
   ]
  },
  {
   "cell_type": "markdown",
   "metadata": {},
   "source": [
    "#### Python"
   ]
  },
  {
   "cell_type": "code",
   "execution_count": 20,
   "metadata": {},
   "outputs": [],
   "source": [
    "df = pd.read_csv(\"http://www.statsci.org/data/general/motorins.txt\", sep='\\t') \\\n",
    "    .assign(\n",
    "        frequency = lambda x: x.Claims / x.Insured,\n",
    "        severity =  lambda x: np.where(x.Claims == 0, 0, x.Payment / x.Claims),\n",
    "        risk_premium = lambda x: x.Payment / x.Insured\n",
    "    )"
   ]
  },
  {
   "cell_type": "code",
   "execution_count": 21,
   "metadata": {
    "scrolled": true
   },
   "outputs": [
    {
     "data": {
      "text/html": [
       "<div>\n",
       "<style scoped>\n",
       "    .dataframe tbody tr th:only-of-type {\n",
       "        vertical-align: middle;\n",
       "    }\n",
       "\n",
       "    .dataframe tbody tr th {\n",
       "        vertical-align: top;\n",
       "    }\n",
       "\n",
       "    .dataframe thead th {\n",
       "        text-align: right;\n",
       "    }\n",
       "</style>\n",
       "<table border=\"1\" class=\"dataframe\">\n",
       "  <thead>\n",
       "    <tr style=\"text-align: right;\">\n",
       "      <th></th>\n",
       "      <th>Kilometres</th>\n",
       "      <th>Zone</th>\n",
       "      <th>Bonus</th>\n",
       "      <th>Make</th>\n",
       "      <th>Insured</th>\n",
       "      <th>Claims</th>\n",
       "      <th>Payment</th>\n",
       "      <th>frequency</th>\n",
       "      <th>severity</th>\n",
       "      <th>risk_premium</th>\n",
       "    </tr>\n",
       "  </thead>\n",
       "  <tbody>\n",
       "    <tr>\n",
       "      <th>0</th>\n",
       "      <td>1</td>\n",
       "      <td>1</td>\n",
       "      <td>1</td>\n",
       "      <td>1</td>\n",
       "      <td>455.13</td>\n",
       "      <td>108</td>\n",
       "      <td>392491</td>\n",
       "      <td>0.237295</td>\n",
       "      <td>3634.175926</td>\n",
       "      <td>862.371191</td>\n",
       "    </tr>\n",
       "    <tr>\n",
       "      <th>1</th>\n",
       "      <td>1</td>\n",
       "      <td>1</td>\n",
       "      <td>1</td>\n",
       "      <td>2</td>\n",
       "      <td>69.17</td>\n",
       "      <td>19</td>\n",
       "      <td>46221</td>\n",
       "      <td>0.274686</td>\n",
       "      <td>2432.684211</td>\n",
       "      <td>668.223218</td>\n",
       "    </tr>\n",
       "    <tr>\n",
       "      <th>2</th>\n",
       "      <td>1</td>\n",
       "      <td>1</td>\n",
       "      <td>1</td>\n",
       "      <td>3</td>\n",
       "      <td>72.88</td>\n",
       "      <td>13</td>\n",
       "      <td>15694</td>\n",
       "      <td>0.178375</td>\n",
       "      <td>1207.230769</td>\n",
       "      <td>215.340285</td>\n",
       "    </tr>\n",
       "    <tr>\n",
       "      <th>3</th>\n",
       "      <td>1</td>\n",
       "      <td>1</td>\n",
       "      <td>1</td>\n",
       "      <td>4</td>\n",
       "      <td>1292.39</td>\n",
       "      <td>124</td>\n",
       "      <td>422201</td>\n",
       "      <td>0.095946</td>\n",
       "      <td>3404.846774</td>\n",
       "      <td>326.682348</td>\n",
       "    </tr>\n",
       "    <tr>\n",
       "      <th>4</th>\n",
       "      <td>1</td>\n",
       "      <td>1</td>\n",
       "      <td>1</td>\n",
       "      <td>5</td>\n",
       "      <td>191.01</td>\n",
       "      <td>40</td>\n",
       "      <td>119373</td>\n",
       "      <td>0.209413</td>\n",
       "      <td>2984.325000</td>\n",
       "      <td>624.956809</td>\n",
       "    </tr>\n",
       "  </tbody>\n",
       "</table>\n",
       "</div>"
      ],
      "text/plain": [
       "   Kilometres  Zone  Bonus  Make  Insured  Claims  Payment  frequency  \\\n",
       "0           1     1      1     1   455.13     108   392491   0.237295   \n",
       "1           1     1      1     2    69.17      19    46221   0.274686   \n",
       "2           1     1      1     3    72.88      13    15694   0.178375   \n",
       "3           1     1      1     4  1292.39     124   422201   0.095946   \n",
       "4           1     1      1     5   191.01      40   119373   0.209413   \n",
       "\n",
       "      severity  risk_premium  \n",
       "0  3634.175926    862.371191  \n",
       "1  2432.684211    668.223218  \n",
       "2  1207.230769    215.340285  \n",
       "3  3404.846774    326.682348  \n",
       "4  2984.325000    624.956809  "
      ]
     },
     "execution_count": 21,
     "metadata": {},
     "output_type": "execute_result"
    }
   ],
   "source": [
    "df.head()"
   ]
  },
  {
   "cell_type": "markdown",
   "metadata": {},
   "source": [
    "#### R"
   ]
  },
  {
   "cell_type": "markdown",
   "metadata": {},
   "source": [
    "```r\n",
    "df <- read.csv(url(\"http://www.statsci.org/data/general/motorins.txt\"), sep=\"\\t\") %>%\n",
    "  mutate(frequency = Claims / Insured, \n",
    "         severity = ifelse(Claims == 0, 0, Payment / Claims), \n",
    "         risk_premium = Payment / Insured)\n",
    "```"
   ]
  },
  {
   "cell_type": "markdown",
   "metadata": {},
   "source": [
    "```r\n",
    "head(df)\n",
    "```"
   ]
  },
  {
   "cell_type": "markdown",
   "metadata": {},
   "source": [
    "Next, we will split the dataset up into a training dataset and set aside a test dataset for validating our model.\n",
    "\n",
    "This will also conveniently randomises the ordering of the data. Neural networks train on batches of data records, so we would prefer the data to be in a random order so that each batch is a representative sample rather than the neatly sorted table above."
   ]
  },
  {
   "cell_type": "markdown",
   "metadata": {},
   "source": [
    "#### Python"
   ]
  },
  {
   "cell_type": "code",
   "execution_count": 22,
   "metadata": {},
   "outputs": [],
   "source": [
    "train, test = train_test_split(df, test_size=0.2, random_state=12345)"
   ]
  },
  {
   "cell_type": "markdown",
   "metadata": {},
   "source": [
    "#### R"
   ]
  },
  {
   "cell_type": "markdown",
   "metadata": {},
   "source": [
    "```r\n",
    "train_ind <- sample(seq_len(nrow(df)), size = floor(0.8 * nrow(df)))\n",
    "\n",
    "train <- df[train_ind,]\n",
    "test  <- df[-train_ind,]\n",
    "```"
   ]
  },
  {
   "cell_type": "markdown",
   "metadata": {},
   "source": [
    "To rescale the output data, the average frequency, severity and risk premium in the training dataset is calculated."
   ]
  },
  {
   "cell_type": "markdown",
   "metadata": {},
   "source": [
    "#### Python"
   ]
  },
  {
   "cell_type": "code",
   "execution_count": 23,
   "metadata": {},
   "outputs": [],
   "source": [
    "totals = train.loc[:, [\"Insured\", \"Claims\", \"Payment\"]].agg('sum') "
   ]
  },
  {
   "cell_type": "code",
   "execution_count": 24,
   "metadata": {},
   "outputs": [
    {
     "name": "stdout",
     "output_type": "stream",
     "text": [
      "0.04749109486158422 4959.405313081085 235.52758818057862\n"
     ]
    }
   ],
   "source": [
    "train_average_frequency = totals[\"Claims\"] / totals[\"Insured\"]\n",
    "train_average_severity = totals[\"Payment\"] / totals[\"Claims\"]\n",
    "train_average_risk_premium = totals[\"Payment\"] / totals[\"Insured\"]\n",
    "\n",
    "print(train_average_frequency, train_average_severity, train_average_risk_premium)"
   ]
  },
  {
   "cell_type": "markdown",
   "metadata": {},
   "source": [
    "#### R"
   ]
  },
  {
   "cell_type": "markdown",
   "metadata": {},
   "source": [
    "```r\n",
    "summary <- train %>% summarise(\n",
    "  train_average_frequency = sum(Claims) / sum(Insured),\n",
    "  train_average_severity = sum(Payment) / sum(Claims),\n",
    "  train_average_risk_premium = sum(Payment) / sum(Insured))\n",
    "  \n",
    "summary\n",
    "```"
   ]
  },
  {
   "cell_type": "markdown",
   "metadata": {},
   "source": [
    "## Neural Network\n",
    "\n",
    "Designing a neural network architecture is similar to putting some building blocks together. We will design the model using the functional API of Keras, which allows us to composite neural network layers to form our model architecture."
   ]
  },
  {
   "cell_type": "markdown",
   "metadata": {},
   "source": [
    "### Embeddings\n",
    "When fitting statistical models, categorical variables typically need to be converted to a series of numerical vectors. Often for GLMs, [indicator variables](https://en.wikipedia.org/wiki/Dummy_variable_(statistics)) are set. \n",
    "\n",
    "In deep learning we can use an \"embedding\" encoding, which will encode the sequence down to a small number of vectors and gets fit as part of the model. We will do this for zone and make."
   ]
  },
  {
   "cell_type": "markdown",
   "metadata": {},
   "source": [
    "#### Python"
   ]
  },
  {
   "cell_type": "code",
   "execution_count": 25,
   "metadata": {},
   "outputs": [],
   "source": [
    "zone_input = Input(shape=(1,), name='zone_input')\n",
    "make_input = Input(shape=(1,), name='make_input')"
   ]
  },
  {
   "cell_type": "markdown",
   "metadata": {},
   "source": [
    "#### R"
   ]
  },
  {
   "cell_type": "markdown",
   "metadata": {},
   "source": [
    "```r\n",
    "zone_input = layer_input(shape=c(1), name='zone_input')\n",
    "make_input = layer_input(shape=c(1), name='make_input')\n",
    "```"
   ]
  },
  {
   "cell_type": "markdown",
   "metadata": {},
   "source": [
    "According to Google's Tensorflow guide, a rough rule of thumb for setting the size of the output vector of an embedding would be the quartic root (^0.25) of the number of categories. However since the the number of categories is so small, we will just keep to output dimensions of 2."
   ]
  },
  {
   "cell_type": "markdown",
   "metadata": {},
   "source": [
    "#### Python"
   ]
  },
  {
   "cell_type": "code",
   "execution_count": 26,
   "metadata": {},
   "outputs": [],
   "source": [
    "zone_embedding = Embedding(output_dim=2, input_dim=7)(zone_input)\n",
    "zone_embedding = Reshape(target_shape=(2,))(zone_embedding)\n",
    "                         \n",
    "make_embedding = Embedding(output_dim=2, input_dim=9)(make_input)\n",
    "make_embedding = Reshape(target_shape=(2,))(make_embedding)"
   ]
  },
  {
   "cell_type": "markdown",
   "metadata": {},
   "source": [
    "#### R"
   ]
  },
  {
   "cell_type": "markdown",
   "metadata": {},
   "source": [
    "```r\n",
    "zone_embedding = layer_embedding(output_dim=2, input_dim=7)(zone_input) %>%\n",
    "  layer_reshape(target_shape=c(2))\n",
    "\n",
    "make_embedding = layer_embedding(output_dim=2, input_dim=9)(make_input) %>% \n",
    "  layer_reshape(target_shape=c(2))\n",
    "```"
   ]
  },
  {
   "cell_type": "markdown",
   "metadata": {},
   "source": [
    "### Other inputs\n",
    "Kilometres and Bonus already have an implicit relationship between the value of the factor and the meaning - i.e. higher Kilometres factors represents a higher amount of kilometres driven, so we will put in the data as is. \n",
    "\n",
    "With more complex inputs - such as images, one really helpful feature of neural networks is the possibility to just \"plug in\" say a image recognition neural network that has been pre-trained by, say, Google, and have it then provide an input into your motor risk rating."
   ]
  },
  {
   "cell_type": "markdown",
   "metadata": {},
   "source": [
    "#### Python"
   ]
  },
  {
   "cell_type": "code",
   "execution_count": 27,
   "metadata": {},
   "outputs": [],
   "source": [
    "kilometres_input = Input(shape=(1,), name='kilometres_input')\n",
    "bonus_input = Input(shape=(1,), name='bonus_input')"
   ]
  },
  {
   "cell_type": "markdown",
   "metadata": {},
   "source": [
    "#### R"
   ]
  },
  {
   "cell_type": "markdown",
   "metadata": {},
   "source": [
    "```r\n",
    "kilometres_input = layer_input(shape=c(1), name='kilometres_input')\n",
    "bonus_input = layer_input(shape=c(1), name='bonus_input')\n",
    "```"
   ]
  },
  {
   "cell_type": "markdown",
   "metadata": {},
   "source": [
    "We then concatenate the inputs together."
   ]
  },
  {
   "cell_type": "markdown",
   "metadata": {},
   "source": [
    "#### Python"
   ]
  },
  {
   "cell_type": "code",
   "execution_count": 28,
   "metadata": {},
   "outputs": [],
   "source": [
    "x = concatenate([zone_embedding, make_embedding, kilometres_input, bonus_input])"
   ]
  },
  {
   "cell_type": "markdown",
   "metadata": {},
   "source": [
    "#### R"
   ]
  },
  {
   "cell_type": "markdown",
   "metadata": {},
   "source": [
    "```r\n",
    "x = layer_concatenate(c(zone_embedding, make_embedding, kilometres_input, bonus_input))\n",
    "```"
   ]
  },
  {
   "cell_type": "markdown",
   "metadata": {},
   "source": [
    "### Dense layers\n",
    "Next we get to the actual \"brains\" of the deep learning model. For the example we will keep it simple with a sequential series of dense layers, however it is possible to use more complex structures or choices of layers which may improve prediction performance."
   ]
  },
  {
   "cell_type": "markdown",
   "metadata": {},
   "source": [
    "#### Python"
   ]
  },
  {
   "cell_type": "code",
   "execution_count": 29,
   "metadata": {},
   "outputs": [],
   "source": [
    "x = Dense(64, activation='relu')(x)\n",
    "x = Dense(64, activation='relu')(x)\n",
    "x = Dense(64, activation='relu')(x)"
   ]
  },
  {
   "cell_type": "markdown",
   "metadata": {},
   "source": [
    "#### R"
   ]
  },
  {
   "cell_type": "markdown",
   "metadata": {},
   "source": [
    "```r\n",
    "x = x %>% layer_dense(64, activation='relu') %>% \n",
    "  layer_dense(64, activation='relu') %>%\n",
    "  layer_dense(64, activation='relu')\n",
    " ```"
   ]
  },
  {
   "cell_type": "markdown",
   "metadata": {},
   "source": [
    "Ideas to potentially explore with the goal of improving predictivness include adjusting the number of layers, or adding drop out, batch normalisation, or skip layer structures into the model."
   ]
  },
  {
   "cell_type": "markdown",
   "metadata": {},
   "source": [
    "### Output\n",
    "Finally we add the output regression layer:"
   ]
  },
  {
   "cell_type": "markdown",
   "metadata": {},
   "source": [
    "#### Python"
   ]
  },
  {
   "cell_type": "code",
   "execution_count": 30,
   "metadata": {},
   "outputs": [],
   "source": [
    "frequency_output = Dense(1, activation='relu', name='frequency')(x)\n",
    "severity_output = Dense(1, activation='relu', name='severity')(x)\n",
    "risk_premium_output = Dense(1, activation='relu', name='risk_premium')(x)"
   ]
  },
  {
   "cell_type": "markdown",
   "metadata": {},
   "source": [
    "#### R"
   ]
  },
  {
   "cell_type": "markdown",
   "metadata": {},
   "source": [
    "```r\n",
    "frequency_output    = x %>% layer_dense(1, activation='relu', name='frequency')\n",
    "severity_output     = x %>% layer_dense(1, activation='relu', name='severity')\n",
    "risk_premium_output = x %>% layer_dense(1, activation='relu', name='risk_premium')\n",
    "```"
   ]
  },
  {
   "cell_type": "markdown",
   "metadata": {},
   "source": [
    "More outputs can be added - if there are multiple risk perils, you could then include each of the frequency, severity and risk premium values as an additional output. \n",
    "\n",
    "It is also possible to include input variables as outputs to infer missing values or just help the model \"understand\" the features - in fact the winning solution of a claims prediction Kaggle competition heavily used denoising autoencoders together with model stacking and ensembling - read more [here](https://www.kaggle.com/c/porto-seguro-safe-driver-prediction/discussion/44629)."
   ]
  },
  {
   "cell_type": "markdown",
   "metadata": {},
   "source": [
    "### Model Definition\n"
   ]
  },
  {
   "cell_type": "markdown",
   "metadata": {},
   "source": [
    "#### Python"
   ]
  },
  {
   "cell_type": "code",
   "execution_count": 31,
   "metadata": {},
   "outputs": [],
   "source": [
    "model = Model(inputs=[zone_input, make_input, kilometres_input, bonus_input], \n",
    "              outputs=[frequency_output, severity_output, risk_premium_output])"
   ]
  },
  {
   "cell_type": "markdown",
   "metadata": {},
   "source": [
    "#### R"
   ]
  },
  {
   "cell_type": "markdown",
   "metadata": {},
   "source": [
    "```r\n",
    "model = keras_model(inputs=c(zone_input, make_input, kilometres_input, bonus_input), \n",
    "              outputs=c(frequency_output, severity_output, risk_premium_output))\n",
    "```"
   ]
  },
  {
   "cell_type": "markdown",
   "metadata": {},
   "source": [
    "The standard poisson will be used for frequency. \n",
    "A simple mean squared error will be used for risk premium. \n",
    "\n",
    "Keras allows definition of custom loss functions, so it would be possible to improve this by potentially including a gamma claim size (as suggested by the paper from which the dataset comes from) and a tweedie risk premium model. \n",
    "\n",
    "However for this snippet we will just keep it simple and use the available standard losses."
   ]
  },
  {
   "cell_type": "markdown",
   "metadata": {},
   "source": [
    "#### Python"
   ]
  },
  {
   "cell_type": "code",
   "execution_count": 32,
   "metadata": {},
   "outputs": [],
   "source": [
    "model.compile(optimizer='adam',\n",
    "              loss={'risk_premium': 'mean_squared_error', 'frequency': 'poisson', 'severity': 'mean_squared_logarithmic_error'}, \n",
    "              loss_weights={'risk_premium': 1.0, 'frequency': 1.0, 'severity': 1.0})"
   ]
  },
  {
   "cell_type": "markdown",
   "metadata": {},
   "source": [
    "#### R"
   ]
  },
  {
   "cell_type": "markdown",
   "metadata": {},
   "source": [
    "```r\n",
    "model %>% compile(optimizer='adam',\n",
    "              loss=list(risk_premium='mean_squared_error', \n",
    "                        frequency='poisson', \n",
    "                        severity='mean_squared_logarithmic_error'), \n",
    "              loss_weights=list(risk_premium= 1.0, frequency= 1.0, severity= 1.0))\n",
    "```"
   ]
  },
  {
   "cell_type": "markdown",
   "metadata": {},
   "source": [
    "This is how our model looks like:"
   ]
  },
  {
   "cell_type": "markdown",
   "metadata": {},
   "source": [
    "#### Python"
   ]
  },
  {
   "cell_type": "code",
   "execution_count": 33,
   "metadata": {},
   "outputs": [
    {
     "data": {
      "image/svg+xml": [
       "<svg height=\"556pt\" viewBox=\"0.00 0.00 700.00 556.00\" width=\"700pt\" xmlns=\"http://www.w3.org/2000/svg\" xmlns:xlink=\"http://www.w3.org/1999/xlink\">\n",
       "<g class=\"graph\" id=\"graph0\" transform=\"scale(1 1) rotate(0) translate(4 552)\">\n",
       "<title>G</title>\n",
       "<polygon fill=\"#ffffff\" points=\"-4,4 -4,-552 696,-552 696,4 -4,4\" stroke=\"transparent\"/>\n",
       "<!-- 4817441120 -->\n",
       "<g class=\"node\" id=\"node1\">\n",
       "<title>4817441120</title>\n",
       "<polygon fill=\"none\" points=\"8.5,-511.5 8.5,-547.5 156.5,-547.5 156.5,-511.5 8.5,-511.5\" stroke=\"#000000\"/>\n",
       "<text fill=\"#000000\" font-family=\"Times,serif\" font-size=\"14.00\" text-anchor=\"middle\" x=\"82.5\" y=\"-525.8\">zone_input: InputLayer</text>\n",
       "</g>\n",
       "<!-- 4817756624 -->\n",
       "<g class=\"node\" id=\"node3\">\n",
       "<title>4817756624</title>\n",
       "<polygon fill=\"none\" points=\"0,-438.5 0,-474.5 165,-474.5 165,-438.5 0,-438.5\" stroke=\"#000000\"/>\n",
       "<text fill=\"#000000\" font-family=\"Times,serif\" font-size=\"14.00\" text-anchor=\"middle\" x=\"82.5\" y=\"-452.8\">embedding_3: Embedding</text>\n",
       "</g>\n",
       "<!-- 4817441120&#45;&gt;4817756624 -->\n",
       "<g class=\"edge\" id=\"edge1\">\n",
       "<title>4817441120-&gt;4817756624</title>\n",
       "<path d=\"M82.5,-511.4551C82.5,-503.3828 82.5,-493.6764 82.5,-484.6817\" fill=\"none\" stroke=\"#000000\"/>\n",
       "<polygon fill=\"#000000\" points=\"86.0001,-484.5903 82.5,-474.5904 79.0001,-484.5904 86.0001,-484.5903\" stroke=\"#000000\"/>\n",
       "</g>\n",
       "<!-- 4817441008 -->\n",
       "<g class=\"node\" id=\"node2\">\n",
       "<title>4817441008</title>\n",
       "<polygon fill=\"none\" points=\"189.5,-511.5 189.5,-547.5 341.5,-547.5 341.5,-511.5 189.5,-511.5\" stroke=\"#000000\"/>\n",
       "<text fill=\"#000000\" font-family=\"Times,serif\" font-size=\"14.00\" text-anchor=\"middle\" x=\"265.5\" y=\"-525.8\">make_input: InputLayer</text>\n",
       "</g>\n",
       "<!-- 4817714760 -->\n",
       "<g class=\"node\" id=\"node4\">\n",
       "<title>4817714760</title>\n",
       "<polygon fill=\"none\" points=\"183,-438.5 183,-474.5 348,-474.5 348,-438.5 183,-438.5\" stroke=\"#000000\"/>\n",
       "<text fill=\"#000000\" font-family=\"Times,serif\" font-size=\"14.00\" text-anchor=\"middle\" x=\"265.5\" y=\"-452.8\">embedding_4: Embedding</text>\n",
       "</g>\n",
       "<!-- 4817441008&#45;&gt;4817714760 -->\n",
       "<g class=\"edge\" id=\"edge2\">\n",
       "<title>4817441008-&gt;4817714760</title>\n",
       "<path d=\"M265.5,-511.4551C265.5,-503.3828 265.5,-493.6764 265.5,-484.6817\" fill=\"none\" stroke=\"#000000\"/>\n",
       "<polygon fill=\"#000000\" points=\"269.0001,-484.5903 265.5,-474.5904 262.0001,-484.5904 269.0001,-484.5903\" stroke=\"#000000\"/>\n",
       "</g>\n",
       "<!-- 4817714872 -->\n",
       "<g class=\"node\" id=\"node5\">\n",
       "<title>4817714872</title>\n",
       "<polygon fill=\"none\" points=\"36.5,-365.5 36.5,-401.5 164.5,-401.5 164.5,-365.5 36.5,-365.5\" stroke=\"#000000\"/>\n",
       "<text fill=\"#000000\" font-family=\"Times,serif\" font-size=\"14.00\" text-anchor=\"middle\" x=\"100.5\" y=\"-379.8\">reshape_3: Reshape</text>\n",
       "</g>\n",
       "<!-- 4817756624&#45;&gt;4817714872 -->\n",
       "<g class=\"edge\" id=\"edge3\">\n",
       "<title>4817756624-&gt;4817714872</title>\n",
       "<path d=\"M86.9494,-438.4551C88.9615,-430.2951 91.3853,-420.4652 93.6233,-411.3887\" fill=\"none\" stroke=\"#000000\"/>\n",
       "<polygon fill=\"#000000\" points=\"97.0435,-412.1375 96.0394,-401.5904 90.247,-410.4616 97.0435,-412.1375\" stroke=\"#000000\"/>\n",
       "</g>\n",
       "<!-- 4817714648 -->\n",
       "<g class=\"node\" id=\"node6\">\n",
       "<title>4817714648</title>\n",
       "<polygon fill=\"none\" points=\"191.5,-365.5 191.5,-401.5 319.5,-401.5 319.5,-365.5 191.5,-365.5\" stroke=\"#000000\"/>\n",
       "<text fill=\"#000000\" font-family=\"Times,serif\" font-size=\"14.00\" text-anchor=\"middle\" x=\"255.5\" y=\"-379.8\">reshape_4: Reshape</text>\n",
       "</g>\n",
       "<!-- 4817714760&#45;&gt;4817714648 -->\n",
       "<g class=\"edge\" id=\"edge4\">\n",
       "<title>4817714760-&gt;4817714648</title>\n",
       "<path d=\"M263.0281,-438.4551C261.9223,-430.3828 260.5927,-420.6764 259.3605,-411.6817\" fill=\"none\" stroke=\"#000000\"/>\n",
       "<polygon fill=\"#000000\" points=\"262.803,-411.0228 257.9781,-401.5904 255.8678,-411.9729 262.803,-411.0228\" stroke=\"#000000\"/>\n",
       "</g>\n",
       "<!-- 4817384280 -->\n",
       "<g class=\"node\" id=\"node9\">\n",
       "<title>4817384280</title>\n",
       "<polygon fill=\"none\" points=\"255,-292.5 255,-328.5 428,-328.5 428,-292.5 255,-292.5\" stroke=\"#000000\"/>\n",
       "<text fill=\"#000000\" font-family=\"Times,serif\" font-size=\"14.00\" text-anchor=\"middle\" x=\"341.5\" y=\"-306.8\">concatenate_2: Concatenate</text>\n",
       "</g>\n",
       "<!-- 4817714872&#45;&gt;4817384280 -->\n",
       "<g class=\"edge\" id=\"edge5\">\n",
       "<title>4817714872-&gt;4817384280</title>\n",
       "<path d=\"M160.073,-365.4551C193.9641,-355.1893 236.581,-342.2804 271.9932,-331.5539\" fill=\"none\" stroke=\"#000000\"/>\n",
       "<polygon fill=\"#000000\" points=\"273.2211,-334.8391 281.777,-328.5904 271.1918,-328.1397 273.2211,-334.8391\" stroke=\"#000000\"/>\n",
       "</g>\n",
       "<!-- 4817714648&#45;&gt;4817384280 -->\n",
       "<g class=\"edge\" id=\"edge6\">\n",
       "<title>4817714648-&gt;4817384280</title>\n",
       "<path d=\"M276.7584,-365.4551C287.5086,-356.3299 300.719,-345.1165 312.3971,-335.2036\" fill=\"none\" stroke=\"#000000\"/>\n",
       "<polygon fill=\"#000000\" points=\"314.8293,-337.7301 320.1881,-328.5904 310.2993,-332.3934 314.8293,-337.7301\" stroke=\"#000000\"/>\n",
       "</g>\n",
       "<!-- 4817385176 -->\n",
       "<g class=\"node\" id=\"node7\">\n",
       "<title>4817385176</title>\n",
       "<polygon fill=\"none\" points=\"338,-365.5 338,-401.5 519,-401.5 519,-365.5 338,-365.5\" stroke=\"#000000\"/>\n",
       "<text fill=\"#000000\" font-family=\"Times,serif\" font-size=\"14.00\" text-anchor=\"middle\" x=\"428.5\" y=\"-379.8\">kilometres_input: InputLayer</text>\n",
       "</g>\n",
       "<!-- 4817385176&#45;&gt;4817384280 -->\n",
       "<g class=\"edge\" id=\"edge7\">\n",
       "<title>4817385176-&gt;4817384280</title>\n",
       "<path d=\"M406.9944,-365.4551C396.1192,-356.3299 382.7552,-345.1165 370.9413,-335.2036\" fill=\"none\" stroke=\"#000000\"/>\n",
       "<polygon fill=\"#000000\" points=\"372.97,-332.337 363.0597,-328.5904 368.4705,-337.6994 372.97,-332.337\" stroke=\"#000000\"/>\n",
       "</g>\n",
       "<!-- 4817385288 -->\n",
       "<g class=\"node\" id=\"node8\">\n",
       "<title>4817385288</title>\n",
       "<polygon fill=\"none\" points=\"537,-365.5 537,-401.5 692,-401.5 692,-365.5 537,-365.5\" stroke=\"#000000\"/>\n",
       "<text fill=\"#000000\" font-family=\"Times,serif\" font-size=\"14.00\" text-anchor=\"middle\" x=\"614.5\" y=\"-379.8\">bonus_input: InputLayer</text>\n",
       "</g>\n",
       "<!-- 4817385288&#45;&gt;4817384280 -->\n",
       "<g class=\"edge\" id=\"edge8\">\n",
       "<title>4817385288-&gt;4817384280</title>\n",
       "<path d=\"M547.0168,-365.4551C508.2156,-355.0796 459.3175,-342.0043 418.953,-331.2109\" fill=\"none\" stroke=\"#000000\"/>\n",
       "<polygon fill=\"#000000\" points=\"419.7177,-327.7925 409.153,-328.5904 417.9094,-334.5549 419.7177,-327.7925\" stroke=\"#000000\"/>\n",
       "</g>\n",
       "<!-- 4817542784 -->\n",
       "<g class=\"node\" id=\"node10\">\n",
       "<title>4817542784</title>\n",
       "<polygon fill=\"none\" points=\"289,-219.5 289,-255.5 394,-255.5 394,-219.5 289,-219.5\" stroke=\"#000000\"/>\n",
       "<text fill=\"#000000\" font-family=\"Times,serif\" font-size=\"14.00\" text-anchor=\"middle\" x=\"341.5\" y=\"-233.8\">dense_4: Dense</text>\n",
       "</g>\n",
       "<!-- 4817384280&#45;&gt;4817542784 -->\n",
       "<g class=\"edge\" id=\"edge9\">\n",
       "<title>4817384280-&gt;4817542784</title>\n",
       "<path d=\"M341.5,-292.4551C341.5,-284.3828 341.5,-274.6764 341.5,-265.6817\" fill=\"none\" stroke=\"#000000\"/>\n",
       "<polygon fill=\"#000000\" points=\"345.0001,-265.5903 341.5,-255.5904 338.0001,-265.5904 345.0001,-265.5903\" stroke=\"#000000\"/>\n",
       "</g>\n",
       "<!-- 4817542616 -->\n",
       "<g class=\"node\" id=\"node11\">\n",
       "<title>4817542616</title>\n",
       "<polygon fill=\"none\" points=\"289,-146.5 289,-182.5 394,-182.5 394,-146.5 289,-146.5\" stroke=\"#000000\"/>\n",
       "<text fill=\"#000000\" font-family=\"Times,serif\" font-size=\"14.00\" text-anchor=\"middle\" x=\"341.5\" y=\"-160.8\">dense_5: Dense</text>\n",
       "</g>\n",
       "<!-- 4817542784&#45;&gt;4817542616 -->\n",
       "<g class=\"edge\" id=\"edge10\">\n",
       "<title>4817542784-&gt;4817542616</title>\n",
       "<path d=\"M341.5,-219.4551C341.5,-211.3828 341.5,-201.6764 341.5,-192.6817\" fill=\"none\" stroke=\"#000000\"/>\n",
       "<polygon fill=\"#000000\" points=\"345.0001,-192.5903 341.5,-182.5904 338.0001,-192.5904 345.0001,-192.5903\" stroke=\"#000000\"/>\n",
       "</g>\n",
       "<!-- 4817542112 -->\n",
       "<g class=\"node\" id=\"node12\">\n",
       "<title>4817542112</title>\n",
       "<polygon fill=\"none\" points=\"289,-73.5 289,-109.5 394,-109.5 394,-73.5 289,-73.5\" stroke=\"#000000\"/>\n",
       "<text fill=\"#000000\" font-family=\"Times,serif\" font-size=\"14.00\" text-anchor=\"middle\" x=\"341.5\" y=\"-87.8\">dense_6: Dense</text>\n",
       "</g>\n",
       "<!-- 4817542616&#45;&gt;4817542112 -->\n",
       "<g class=\"edge\" id=\"edge11\">\n",
       "<title>4817542616-&gt;4817542112</title>\n",
       "<path d=\"M341.5,-146.4551C341.5,-138.3828 341.5,-128.6764 341.5,-119.6817\" fill=\"none\" stroke=\"#000000\"/>\n",
       "<polygon fill=\"#000000\" points=\"345.0001,-119.5903 341.5,-109.5904 338.0001,-119.5904 345.0001,-119.5903\" stroke=\"#000000\"/>\n",
       "</g>\n",
       "<!-- 4817327104 -->\n",
       "<g class=\"node\" id=\"node13\">\n",
       "<title>4817327104</title>\n",
       "<polygon fill=\"none\" points=\"157,-.5 157,-36.5 272,-36.5 272,-.5 157,-.5\" stroke=\"#000000\"/>\n",
       "<text fill=\"#000000\" font-family=\"Times,serif\" font-size=\"14.00\" text-anchor=\"middle\" x=\"214.5\" y=\"-14.8\">frequency: Dense</text>\n",
       "</g>\n",
       "<!-- 4817542112&#45;&gt;4817327104 -->\n",
       "<g class=\"edge\" id=\"edge12\">\n",
       "<title>4817542112-&gt;4817327104</title>\n",
       "<path d=\"M310.1067,-73.4551C293.4683,-63.8912 272.8389,-52.0334 255.0066,-41.7833\" fill=\"none\" stroke=\"#000000\"/>\n",
       "<polygon fill=\"#000000\" points=\"256.3863,-38.5394 245.9723,-36.5904 252.8979,-44.6083 256.3863,-38.5394\" stroke=\"#000000\"/>\n",
       "</g>\n",
       "<!-- 4817530216 -->\n",
       "<g class=\"node\" id=\"node14\">\n",
       "<title>4817530216</title>\n",
       "<polygon fill=\"none\" points=\"290,-.5 290,-36.5 393,-36.5 393,-.5 290,-.5\" stroke=\"#000000\"/>\n",
       "<text fill=\"#000000\" font-family=\"Times,serif\" font-size=\"14.00\" text-anchor=\"middle\" x=\"341.5\" y=\"-14.8\">severity: Dense</text>\n",
       "</g>\n",
       "<!-- 4817542112&#45;&gt;4817530216 -->\n",
       "<g class=\"edge\" id=\"edge13\">\n",
       "<title>4817542112-&gt;4817530216</title>\n",
       "<path d=\"M341.5,-73.4551C341.5,-65.3828 341.5,-55.6764 341.5,-46.6817\" fill=\"none\" stroke=\"#000000\"/>\n",
       "<polygon fill=\"#000000\" points=\"345.0001,-46.5903 341.5,-36.5904 338.0001,-46.5904 345.0001,-46.5903\" stroke=\"#000000\"/>\n",
       "</g>\n",
       "<!-- 4817528536 -->\n",
       "<g class=\"node\" id=\"node15\">\n",
       "<title>4817528536</title>\n",
       "<polygon fill=\"none\" points=\"411,-.5 411,-36.5 548,-36.5 548,-.5 411,-.5\" stroke=\"#000000\"/>\n",
       "<text fill=\"#000000\" font-family=\"Times,serif\" font-size=\"14.00\" text-anchor=\"middle\" x=\"479.5\" y=\"-14.8\">risk_premium: Dense</text>\n",
       "</g>\n",
       "<!-- 4817542112&#45;&gt;4817528536 -->\n",
       "<g class=\"edge\" id=\"edge14\">\n",
       "<title>4817542112-&gt;4817528536</title>\n",
       "<path d=\"M375.6124,-73.4551C393.9407,-63.7596 416.7259,-51.7066 436.2832,-41.361\" fill=\"none\" stroke=\"#000000\"/>\n",
       "<polygon fill=\"#000000\" points=\"438.0989,-44.3602 445.3018,-36.5904 434.8257,-38.1725 438.0989,-44.3602\" stroke=\"#000000\"/>\n",
       "</g>\n",
       "</g>\n",
       "</svg>"
      ],
      "text/plain": [
       "<IPython.core.display.SVG object>"
      ]
     },
     "execution_count": 33,
     "metadata": {},
     "output_type": "execute_result"
    }
   ],
   "source": [
    "SVG(model_to_dot(model).create(prog='dot', format='svg'))"
   ]
  },
  {
   "cell_type": "markdown",
   "metadata": {},
   "source": [
    "#### R (text summary only)"
   ]
  },
  {
   "cell_type": "markdown",
   "metadata": {},
   "source": [
    "```r\n",
    "summary(model)\n",
    "```"
   ]
  },
  {
   "cell_type": "markdown",
   "metadata": {},
   "source": [
    "### Flexibility in Inputs and Outputs\n",
    "While it is not possible with our example dataset based on historical data, it is worth noting the flexibility that a neural network can give to your model inputs - for example:\n",
    "* images (e.g. photos of the vehicle),\n",
    "* freeform text descriptions (e.g. claims diary of accident history),\n",
    "* time series (e.g. driving behaviours)\n",
    "\n",
    "These can all be included as predictors if they were available - leveraging image recognition and natural language processing models and other advances in deep learning.\n",
    "\n",
    "Outputs can also be the images, freeform texts or time series. They can also include the missing data in inputs - for example, the first place solution in the [Porto Seguro Kaggle data mining competition](https://www.kaggle.com/c/porto-seguro-safe-driver-prediction/discussion/44629) was based on auto-encoders which predicts the inputs as outputs."
   ]
  },
  {
   "cell_type": "markdown",
   "metadata": {},
   "source": [
    "### Fit\n",
    "Fitting the model. Some things to note are:\n",
    "* keras factors for embeddings count from 0, 1, 2... but our data is set up as 1, 2 3 so we need to subtract 1 from each predictor,\n",
    "* sample weights are set individually - frequency and risk premium use the same exposure weights, but had we included claim size, that would use claim count as the weight,\n",
    "* do some basic normalising - on the Bonus and Kilometres inputs and particularly on the outputs to get frequency and risk premium to be in the same scale."
   ]
  },
  {
   "cell_type": "markdown",
   "metadata": {},
   "source": [
    "#### Python"
   ]
  },
  {
   "cell_type": "code",
   "execution_count": 34,
   "metadata": {},
   "outputs": [],
   "source": [
    "def InputDataTransformer(x):\n",
    "    return {\n",
    "    'kilometres_input': (x.Kilometres.values - 1) / 5,\n",
    "    'zone_input': x.Zone.values - 1,\n",
    "    'bonus_input': (x.Bonus.values - 1) / 7,\n",
    "    'make_input': x.Make.values - 1}"
   ]
  },
  {
   "cell_type": "code",
   "execution_count": 35,
   "metadata": {
    "scrolled": true
   },
   "outputs": [
    {
     "name": "stdout",
     "output_type": "stream",
     "text": [
      "Epoch 1/40\n",
      "1745/1745 [==============================] - 1s 523us/step - loss: 2576.5582 - frequency_loss: 1495.9050 - severity_loss: 15.2125 - risk_premium_loss: 1065.4406\n",
      "Epoch 2/40\n",
      "1745/1745 [==============================] - 0s 57us/step - loss: 1579.2236 - frequency_loss: 1146.6555 - severity_loss: 2.6371 - risk_premium_loss: 429.9309\n",
      "Epoch 3/40\n",
      "1745/1745 [==============================] - 0s 74us/step - loss: 1287.0397 - frequency_loss: 1045.1888 - severity_loss: 3.3431 - risk_premium_loss: 238.5078\n",
      "Epoch 4/40\n",
      "1745/1745 [==============================] - 0s 76us/step - loss: 1211.7027 - frequency_loss: 1020.2223 - severity_loss: 3.4069 - risk_premium_loss: 188.0735\n",
      "Epoch 5/40\n",
      "1745/1745 [==============================] - 0s 66us/step - loss: 1176.6668 - frequency_loss: 1007.9651 - severity_loss: 3.0118 - risk_premium_loss: 165.6900\n",
      "Epoch 6/40\n",
      "1745/1745 [==============================] - 0s 64us/step - loss: 1159.7095 - frequency_loss: 1003.4803 - severity_loss: 2.5146 - risk_premium_loss: 153.7146\n",
      "Epoch 7/40\n",
      "1745/1745 [==============================] - 0s 55us/step - loss: 1150.0399 - frequency_loss: 1000.4400 - severity_loss: 2.1759 - risk_premium_loss: 147.4240\n",
      "Epoch 8/40\n",
      "1745/1745 [==============================] - 0s 48us/step - loss: 1146.6962 - frequency_loss: 999.4984 - severity_loss: 1.7248 - risk_premium_loss: 145.4730\n",
      "Epoch 9/40\n",
      "1745/1745 [==============================] - 0s 47us/step - loss: 1144.7357 - frequency_loss: 999.1059 - severity_loss: 1.4605 - risk_premium_loss: 144.1694\n",
      "Epoch 10/40\n",
      "1745/1745 [==============================] - 0s 80us/step - loss: 1140.8436 - frequency_loss: 998.7005 - severity_loss: 1.2398 - risk_premium_loss: 140.9032\n",
      "Epoch 11/40\n",
      "1745/1745 [==============================] - 0s 50us/step - loss: 1136.5050 - frequency_loss: 997.7362 - severity_loss: 1.1073 - risk_premium_loss: 137.6615\n",
      "Epoch 12/40\n",
      "1745/1745 [==============================] - 0s 64us/step - loss: 1137.3667 - frequency_loss: 998.0937 - severity_loss: 1.0208 - risk_premium_loss: 138.2522\n",
      "Epoch 13/40\n",
      "1745/1745 [==============================] - 0s 57us/step - loss: 1133.5384 - frequency_loss: 996.8458 - severity_loss: 0.9588 - risk_premium_loss: 135.7338\n",
      "Epoch 14/40\n",
      "1745/1745 [==============================] - 0s 56us/step - loss: 1131.0822 - frequency_loss: 996.4514 - severity_loss: 0.9337 - risk_premium_loss: 133.6970\n",
      "Epoch 15/40\n",
      "1745/1745 [==============================] - 0s 51us/step - loss: 1132.3365 - frequency_loss: 996.6594 - severity_loss: 0.9023 - risk_premium_loss: 134.7748\n",
      "Epoch 16/40\n",
      "1745/1745 [==============================] - 0s 52us/step - loss: 1130.7675 - frequency_loss: 996.7605 - severity_loss: 0.8884 - risk_premium_loss: 133.1185\n",
      "Epoch 17/40\n",
      "1745/1745 [==============================] - 0s 57us/step - loss: 1129.5960 - frequency_loss: 995.6231 - severity_loss: 0.8623 - risk_premium_loss: 133.1106\n",
      "Epoch 18/40\n",
      "1745/1745 [==============================] - 0s 50us/step - loss: 1133.8500 - frequency_loss: 996.7245 - severity_loss: 0.8695 - risk_premium_loss: 136.2560\n",
      "Epoch 19/40\n",
      "1745/1745 [==============================] - 0s 45us/step - loss: 1130.5406 - frequency_loss: 996.7333 - severity_loss: 0.8757 - risk_premium_loss: 132.9316\n",
      "Epoch 20/40\n",
      "1745/1745 [==============================] - 0s 45us/step - loss: 1128.1542 - frequency_loss: 996.1526 - severity_loss: 0.8616 - risk_premium_loss: 131.1400\n",
      "Epoch 21/40\n",
      "1745/1745 [==============================] - 0s 44us/step - loss: 1125.8760 - frequency_loss: 995.1438 - severity_loss: 0.8432 - risk_premium_loss: 129.8890\n",
      "Epoch 22/40\n",
      "1745/1745 [==============================] - 0s 41us/step - loss: 1126.8463 - frequency_loss: 995.2812 - severity_loss: 0.8311 - risk_premium_loss: 130.7340\n",
      "Epoch 23/40\n",
      "1745/1745 [==============================] - 0s 43us/step - loss: 1123.9348 - frequency_loss: 994.1833 - severity_loss: 0.8383 - risk_premium_loss: 128.9132\n",
      "Epoch 24/40\n",
      "1745/1745 [==============================] - 0s 43us/step - loss: 1129.4269 - frequency_loss: 995.7703 - severity_loss: 0.8319 - risk_premium_loss: 132.8247\n",
      "Epoch 25/40\n",
      "1745/1745 [==============================] - 0s 57us/step - loss: 1124.2905 - frequency_loss: 993.9861 - severity_loss: 0.8160 - risk_premium_loss: 129.4884\n",
      "Epoch 26/40\n",
      "1745/1745 [==============================] - 0s 59us/step - loss: 1127.4113 - frequency_loss: 995.7930 - severity_loss: 0.8185 - risk_premium_loss: 130.7998\n",
      "Epoch 27/40\n",
      "1745/1745 [==============================] - 0s 56us/step - loss: 1127.2857 - frequency_loss: 996.6785 - severity_loss: 0.8470 - risk_premium_loss: 129.7602\n",
      "Epoch 28/40\n",
      "1745/1745 [==============================] - 0s 57us/step - loss: 1126.4522 - frequency_loss: 995.8099 - severity_loss: 0.8039 - risk_premium_loss: 129.8384\n",
      "Epoch 29/40\n",
      "1745/1745 [==============================] - 0s 57us/step - loss: 1122.6766 - frequency_loss: 994.1551 - severity_loss: 0.8038 - risk_premium_loss: 127.7178\n",
      "Epoch 30/40\n",
      "1745/1745 [==============================] - 0s 55us/step - loss: 1121.3369 - frequency_loss: 993.8559 - severity_loss: 0.7965 - risk_premium_loss: 126.6845\n",
      "Epoch 31/40\n",
      "1745/1745 [==============================] - 0s 54us/step - loss: 1122.6792 - frequency_loss: 993.5313 - severity_loss: 0.7779 - risk_premium_loss: 128.3700\n",
      "Epoch 32/40\n",
      "1745/1745 [==============================] - 0s 60us/step - loss: 1122.0503 - frequency_loss: 994.4398 - severity_loss: 0.7679 - risk_premium_loss: 126.8427\n",
      "Epoch 33/40\n",
      "1745/1745 [==============================] - 0s 56us/step - loss: 1126.5686 - frequency_loss: 995.2452 - severity_loss: 0.7716 - risk_premium_loss: 130.5519\n",
      "Epoch 34/40\n",
      "1745/1745 [==============================] - 0s 53us/step - loss: 1122.1378 - frequency_loss: 994.1017 - severity_loss: 0.7744 - risk_premium_loss: 127.2617\n",
      "Epoch 35/40\n",
      "1745/1745 [==============================] - 0s 58us/step - loss: 1121.9741 - frequency_loss: 994.1469 - severity_loss: 0.7666 - risk_premium_loss: 127.0606\n",
      "Epoch 36/40\n",
      "1745/1745 [==============================] - 0s 57us/step - loss: 1119.9283 - frequency_loss: 993.0651 - severity_loss: 0.7590 - risk_premium_loss: 126.1042\n",
      "Epoch 37/40\n",
      "1745/1745 [==============================] - 0s 60us/step - loss: 1118.8806 - frequency_loss: 993.1679 - severity_loss: 0.7439 - risk_premium_loss: 124.9688\n",
      "Epoch 38/40\n",
      "1745/1745 [==============================] - 0s 52us/step - loss: 1120.2185 - frequency_loss: 993.3108 - severity_loss: 0.7405 - risk_premium_loss: 126.1671\n",
      "Epoch 39/40\n",
      "1745/1745 [==============================] - 0s 55us/step - loss: 1119.4581 - frequency_loss: 993.1293 - severity_loss: 0.7294 - risk_premium_loss: 125.5993\n",
      "Epoch 40/40\n",
      "1745/1745 [==============================] - 0s 53us/step - loss: 1119.7469 - frequency_loss: 993.3780 - severity_loss: 0.7242 - risk_premium_loss: 125.6448\n"
     ]
    },
    {
     "data": {
      "text/plain": [
       "<keras.callbacks.History at 0x11f55be80>"
      ]
     },
     "execution_count": 35,
     "metadata": {},
     "output_type": "execute_result"
    }
   ],
   "source": [
    "model.fit(\n",
    "    InputDataTransformer(train),\n",
    "    {'frequency': train.frequency.values / train_average_frequency,\n",
    "     'severity': train.severity.values / train_average_severity,\n",
    "     'risk_premium': train.risk_premium.values / train_average_risk_premium}, \n",
    "    sample_weight={\n",
    "        'frequency': train.Insured.values,\n",
    "        'severity': train.Claims.values,\n",
    "        'risk_premium': train.Insured.values\n",
    "    },\n",
    "    epochs=40, batch_size=32)"
   ]
  },
  {
   "cell_type": "markdown",
   "metadata": {},
   "source": [
    "#### R"
   ]
  },
  {
   "cell_type": "markdown",
   "metadata": {},
   "source": [
    "```r\n",
    "InputDataTransformer <- function(x){\n",
    "  list(\n",
    "    kilometres_input= (x$Kilometres - 1) / 5,\n",
    "    zone_input= (x$Zone - 1),\n",
    "    bonus_input= (x$Bonus - 1) / 7,\n",
    "    make_input= x$Make - 1\n",
    "  )}\n",
    "```"
   ]
  },
  {
   "cell_type": "markdown",
   "metadata": {},
   "source": [
    "```r\n",
    "model %>% fit(\n",
    "  x=InputDataTransformer(train),\n",
    "  y=list(\n",
    "    frequency=train$frequency / summary$train_average_frequency,\n",
    "    severity=train$severity / summary$train_average_severity,\n",
    "    risk_premium=train$risk_premium / summary$train_average_risk_premium),\n",
    "  sample_weight=list(\n",
    "    frequency=train$Insured,\n",
    "    severity=train$Claims,\n",
    "    risk_premium=train$Insured),\n",
    "  epochs=40, batch_size=32)\n",
    "```"
   ]
  },
  {
   "cell_type": "markdown",
   "metadata": {},
   "source": [
    "## Model Validation"
   ]
  },
  {
   "cell_type": "markdown",
   "metadata": {},
   "source": [
    "So we will now apply this to the holdout set to see how well the model has worked."
   ]
  },
  {
   "cell_type": "markdown",
   "metadata": {},
   "source": [
    "The plots below show the datasets ordered from least risky to most risky, with the modelled vs actual frequency and risk premiums, for the training and holdout sets."
   ]
  },
  {
   "cell_type": "markdown",
   "metadata": {},
   "source": [
    "#### Python"
   ]
  },
  {
   "cell_type": "code",
   "execution_count": 36,
   "metadata": {},
   "outputs": [],
   "source": [
    "def predict_and_plot(df, train_average_frequency, train_average_risk_premium):\n",
    "    model_frequency, model_severity, model_risk_premium = model.predict(InputDataTransformer(df))\n",
    "\n",
    "    # Reverse the normalisation\n",
    "    # Score, sort by lowest to higher\n",
    "    df_new = df.assign(model_frequency = model_frequency * train_average_frequency, \n",
    "                       model_risk_premium = model_risk_premium * train_average_risk_premium) \\\n",
    "        .assign(model_payment = lambda x: x.model_risk_premium * x.Insured,\n",
    "                model_claim_count = lambda x: x.model_frequency * x.Insured) \\\n",
    "        .sort_values(by=['model_frequency']) \\\n",
    "        .assign(model_claim_count_band = lambda x: np.floor(x.model_claim_count.cumsum() / x.model_claim_count.agg('sum') * 10) / 10) \\\n",
    "        .sort_values(by=['model_risk_premium']) \\\n",
    "        .assign(model_payment_band = lambda x: np.floor(x.model_payment.cumsum() / x.model_payment.agg('sum') * 10) / 10)\n",
    "        \n",
    "    # Summarise and plot frequency by weighted decile rank\n",
    "    df_new.loc[:,['model_claim_count_band', 'Insured', 'Claims', 'model_claim_count']] \\\n",
    "        .groupby('model_claim_count_band') \\\n",
    "        .agg('sum') \\\n",
    "        .assign(model_frequency = lambda x: x.model_claim_count / x.Insured,\n",
    "               actual_frequency = lambda x: x.Claims / x.Insured) \\\n",
    "        .loc[:,['model_frequency', 'actual_frequency']] \\\n",
    "        .plot.bar()\n",
    "                \n",
    "    # Summarise and plot risk premium by weighted decile rank\n",
    "    df_new.loc[:,['model_payment_band', 'Insured', 'Payment', 'model_payment']] \\\n",
    "        .groupby('model_payment_band') \\\n",
    "        .agg('sum') \\\n",
    "        .assign(model_risk_premium = lambda x: x.model_payment / x.Insured,\n",
    "               actual_risk_premium = lambda x: x.Payment / x.Insured) \\\n",
    "        .loc[:,['model_risk_premium', 'actual_risk_premium']] \\\n",
    "        .plot.bar()\n",
    "    \n",
    "    return df_new"
   ]
  },
  {
   "cell_type": "code",
   "execution_count": 37,
   "metadata": {},
   "outputs": [
    {
     "data": {
      "image/png": "[encoded data removed]",
      "text/plain": [
       "<matplotlib.figure.Figure at 0x11f2374e0>"
      ]
     },
     "metadata": {},
     "output_type": "display_data"
    },
    {
     "data": {
      "image/png": "[encoded data removed]",
      "text/plain": [
       "<matplotlib.figure.Figure at 0x1200d0748>"
      ]
     },
     "metadata": {},
     "output_type": "display_data"
    }
   ],
   "source": [
    "train = predict_and_plot(train, train_average_frequency, train_average_risk_premium)"
   ]
  },
  {
   "cell_type": "code",
   "execution_count": 38,
   "metadata": {},
   "outputs": [
    {
     "data": {
      "image/png": "[encoded data removed]",
      "text/plain": [
       "<matplotlib.figure.Figure at 0x11ff6cc18>"
      ]
     },
     "metadata": {},
     "output_type": "display_data"
    },
    {
     "data": {
      "image/png": "[encoded data removed]",
      "text/plain": [
       "<matplotlib.figure.Figure at 0x12043f6d8>"
      ]
     },
     "metadata": {},
     "output_type": "display_data"
    }
   ],
   "source": [
    "test = predict_and_plot(test, train_average_frequency, train_average_risk_premium)"
   ]
  },
  {
   "cell_type": "markdown",
   "metadata": {},
   "source": [
    "#### R"
   ]
  },
  {
   "cell_type": "markdown",
   "metadata": {},
   "source": [
    "```r\n",
    "predict_and_plot <- function(df, train_average_frequency, train_average_risk_premium){\n",
    "  predictions <- model %>% predict(InputDataTransformer(df)) %>% as.data.frame()\n",
    "  colnames(predictions) <- c(\"model_frequency\", \"model_severity\", \"model_risk_premium\")\n",
    "  \n",
    "  # Reverse the normalisation\n",
    "  df_new <- df %>% cbind(predictions) %>%\n",
    "    mutate(model_frequency = model_frequency * train_average_frequency,\n",
    "           model_risk_premium = model_risk_premium * train_average_risk_premium) %>%\n",
    "    mutate(model_payment = model_risk_premium * Insured,\n",
    "           model_claim_count = model_frequency * Insured)\n",
    "  \n",
    "  df_summary <- df_new %>%\n",
    "    summarise(model_claim_count_sum = sum(model_claim_count),\n",
    "              model_payment_sum = sum(model_payment))\n",
    "  \n",
    "  # Score, sort by lowest to higher\n",
    "  df_new <- df_new %>%\n",
    "    arrange(model_frequency) %>%\n",
    "    mutate(model_claim_count_band = floor(cumsum(model_claim_count) / df_summary$model_claim_count_sum * 10) / 10) %>%\n",
    "    arrange(model_risk_premium) %>%\n",
    "    mutate(model_payment_band = floor(cumsum(model_payment) / df_summary$model_payment_sum * 10) / 10)\n",
    "  \n",
    "  # Summarise and plot frequency by weighted decile rank\n",
    "  df_new %>% group_by(model_claim_count_band) %>%\n",
    "    summarise(model_frequency = sum(model_claim_count) / sum(Insured),\n",
    "              actual_frequency = sum(Claims) / sum(Insured)) %>%\n",
    "    select(-model_claim_count_band) %>% as.matrix() %>% t() %>%\n",
    "    barplot(xlab = \"Frequency Decile\", ylab=\"Frequency\", beside = TRUE)\n",
    "\n",
    "  # Summarise and plot risk premium by weighted decile rank\n",
    "  df_new %>% group_by(model_payment_band) %>%\n",
    "    summarise(model_risk_premium = sum(model_payment) / sum(Insured),\n",
    "              actual_risk_premium = sum(Payment) / sum(Insured)) %>%\n",
    "    select(-model_payment_band) %>% as.matrix() %>% t() %>%\n",
    "    barplot(xlab = \"Risk Premium Decile\", ylab=\"Risk Premium\", beside = TRUE)\n",
    "\n",
    "  df_new\n",
    "}\n",
    "\n",
    "train = predict_and_plot(train, summary$train_average_frequency, summary$train_average_risk_premium)\n",
    "test = predict_and_plot(test, summary$train_average_frequency, summary$train_average_risk_premium)\n",
    "```"
   ]
  },
  {
   "cell_type": "markdown",
   "metadata": {},
   "source": [
    "Neural networks can be fragile. Data needs to be transformed in the right way, and the model architecture and optimiser settings can all have impact on the model performance. This makes validation tests such as the holdout testing above especially important. \n",
    "\n",
    "The model appears to be performing well even on the holdout set, with the best and worse having a wide differential in predicted outcomes, and actual matching well to those predictions. Try and see the variations if you remove the reproducible constraint at the start and train it multiple times. Does the model fit well every time?\n",
    "\n",
    "In the event a neural network model behaves oddly, some good resources for diagnosing issues can be found [here](http://theorangeduck.com/page/neural-network-not-working) and [here](https://blog.slavv.com/37-reasons-why-your-neural-network-is-not-working-4020854bd607)."
   ]
  },
  {
   "cell_type": "markdown",
   "metadata": {},
   "source": [
    "## Afterward\n",
    "Often media article tends to describe \"AI\" in science-fiction or occult terms, but it is important to recognise that it is only a particular class of models. Just like other models, actuaries should ask tough questions about its appropriateness - such as on the quality of data inputs, the understanding of outliers, and the distribution assumptions.\n",
    "\n",
    "It is also a model with some very useful properties. As we have seen above, a fully functional, multi-tasking neural network for potentially automating general insurance pricing is possible in only around 100 lines of Python or R code. It is not too hard for actuaries with good grounding in statistics to learn, and perhaps it may be useful for your next project!\n",
    "\n",
    "To learn more on neural networks from first principles, Google's [Intro to Deep Learning](https://www.udacity.com/course/deep-learning--ud730) seems like a good choice. Alternatively, for those who prefer to plunge straight into applications, there is the [fast.ai course](http://course17.fast.ai/) - the older v1 of the course uses Keras similar to this tutorial. "
   ]
  },
  {
   "cell_type": "markdown",
   "metadata": {},
   "source": [
    "Do you have an interesting dataset or cool tool that you are passionate about? The [Data Analytics Video Competition: Weapons of Mass Deduction](https://actuaries.asn.au/microsites/actuaries-in-data-analytics/video-competition) is now on - get filming!"
   ]
  }
 ],
 "metadata": {
  "kernelspec": {
   "display_name": "Python 3",
   "language": "python",
   "name": "python3"
  },
  "language_info": {
   "codemirror_mode": {
    "name": "ipython",
    "version": 3
   },
   "file_extension": ".py",
   "mimetype": "text/x-python",
   "name": "python",
   "nbconvert_exporter": "python",
   "pygments_lexer": "ipython3",
   "version": "3.6.3"
  }
 },
 "nbformat": 4,
 "nbformat_minor": 2
}
